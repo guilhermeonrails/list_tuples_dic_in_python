{
  "nbformat": 4,
  "nbformat_minor": 0,
  "metadata": {
    "colab": {
      "name": "Listas-Tuplas-Dicionários.ipynb",
      "provenance": [],
      "authorship_tag": "ABX9TyNnf9ipFIOioDQYPcF6kj8e",
      "include_colab_link": true
    },
    "kernelspec": {
      "name": "python3",
      "display_name": "Python 3"
    },
    "language_info": {
      "name": "python"
    }
  },
  "cells": [
    {
      "cell_type": "markdown",
      "metadata": {
        "id": "view-in-github",
        "colab_type": "text"
      },
      "source": [
        "<a href=\"https://colab.research.google.com/github/guilhermeonrails/list_tuples_dic_in_python/blob/main/Listas_Tuplas_Dicion%C3%A1rios.ipynb\" target=\"_parent\"><img src=\"https://colab.research.google.com/assets/colab-badge.svg\" alt=\"Open In Colab\"/></a>"
      ]
    },
    {
      "cell_type": "markdown",
      "metadata": {
        "id": "Xx3ZM5md4DLV"
      },
      "source": [
        "#Revisão geral"
      ]
    },
    {
      "cell_type": "code",
      "metadata": {
        "id": "si1VAzz9V4Lx"
      },
      "source": [
        "lista = []\n",
        "tupla =  ()\n",
        "dicionario = {}"
      ],
      "execution_count": 2,
      "outputs": []
    },
    {
      "cell_type": "code",
      "metadata": {
        "colab": {
          "base_uri": "https://localhost:8080/"
        },
        "id": "NsueF3YE4JSe",
        "outputId": "b3dfffd8-becc-451e-8da5-9821f4395d91"
      },
      "source": [
        "# Lista\n",
        "\n",
        "frameworks_js = ['React', 'Angular', 'Vue']\n",
        "frameworks_js"
      ],
      "execution_count": 21,
      "outputs": [
        {
          "output_type": "execute_result",
          "data": {
            "text/plain": [
              "['React', 'Angular', 'Vue']"
            ]
          },
          "metadata": {
            "tags": []
          },
          "execution_count": 21
        }
      ]
    },
    {
      "cell_type": "code",
      "metadata": {
        "colab": {
          "base_uri": "https://localhost:8080/"
        },
        "id": "gzeX_XI74dgN",
        "outputId": "f20e5a6d-4edc-4c80-e94b-8c58e3857887"
      },
      "source": [
        "frameworks_js.append('Charts')\n",
        "frameworks_js"
      ],
      "execution_count": 24,
      "outputs": [
        {
          "output_type": "execute_result",
          "data": {
            "text/plain": [
              "['React', 'Angular', 'Vue', 'Charts', 'Charts', 'Charts']"
            ]
          },
          "metadata": {
            "tags": []
          },
          "execution_count": 24
        }
      ]
    },
    {
      "cell_type": "markdown",
      "metadata": {
        "id": "29uFmz2p4vym"
      },
      "source": [
        "## Principais funções de listas com Python\n",
        "\n",
        "- sort(): retorna a lista ordenada.\n",
        "- type(list): retorna a classe do tipo do objeto.\n",
        "- append(): adiciona um único elemento na lista.\n",
        "- extend(): adiciona múltiplos elementos na lista.\n",
        "- max(list): retorna um elemento da lista com valor máximo.\n",
        "- min(list): retorna um elemento da lista com valor mínimo.\n",
        "- len(list): retorna o tamanho total de elementos da lista.\n",
        "- list(seq): converte uma tupla em uma lista.\n",
        "- cmp(list1, list2): compara elementos entre as duas listas."
      ]
    },
    {
      "cell_type": "code",
      "metadata": {
        "colab": {
          "base_uri": "https://localhost:8080/"
        },
        "id": "cvud_bHtWToj",
        "outputId": "2bcd903a-a973-4af7-87ec-d9f2b7ed1ae2"
      },
      "source": [
        "import sys\n",
        "\n",
        "# Como o tamanho de uma tupla é fixo, ela pode ser armazenada de forma mais compacta \n",
        "# do que as listas que precisam ser superalocadas para tornar as operações \n",
        "# append() eficientes.\n",
        "\n",
        "print(sys.getsizeof(tuple(range(10))))\n",
        "print(sys.getsizeof(list(range(10))))\n"
      ],
      "execution_count": 3,
      "outputs": [
        {
          "output_type": "stream",
          "text": [
            "136\n",
            "208\n"
          ],
          "name": "stdout"
        }
      ]
    },
    {
      "cell_type": "markdown",
      "metadata": {
        "id": "Z6hjed5sZeBu"
      },
      "source": [
        "[Para saber mais sobre tuplas](https://stackoverflow.com/questions/68630/are-tuples-more-efficient-than-lists-in-python/22140115#22140115)"
      ]
    },
    {
      "cell_type": "code",
      "metadata": {
        "colab": {
          "base_uri": "https://localhost:8080/"
        },
        "id": "Hw6cb0VnY_ER",
        "outputId": "1ed0dfcd-e4ef-46f4-af30-2abdefad4699"
      },
      "source": [
        "# Tuplas podem ser copiadas\n",
        "\n",
        "a = (10, 20)\n",
        "b = a\n",
        "print(a is b)"
      ],
      "execution_count": 4,
      "outputs": [
        {
          "output_type": "stream",
          "text": [
            "True\n"
          ],
          "name": "stdout"
        }
      ]
    },
    {
      "cell_type": "code",
      "metadata": {
        "colab": {
          "base_uri": "https://localhost:8080/"
        },
        "id": "rcjcwKWoagoK",
        "outputId": "a2379039-5411-4a7b-83d6-14883bc93195"
      },
      "source": [
        "# Mostrar o endereço de memória\n",
        "print(hex(id(a)))\n",
        "print(hex(id(b)))"
      ],
      "execution_count": 7,
      "outputs": [
        {
          "output_type": "stream",
          "text": [
            "0x7faeb6f4e370\n",
            "0x7faeb6f4e370\n"
          ],
          "name": "stdout"
        }
      ]
    },
    {
      "cell_type": "code",
      "metadata": {
        "id": "fO8y2iRxa5GL",
        "colab": {
          "base_uri": "https://localhost:8080/"
        },
        "outputId": "95b8cb7a-3f2a-49b6-ed5f-4bfb111e6209"
      },
      "source": [
        "# Dicionário\n",
        "\n",
        "dados = {\n",
        "    'nome':'Gui',\n",
        "    'idade':30,\n",
        "    'profissao':'Dev',\n",
        "    'salario':100\n",
        "}\n",
        "\n",
        "dados"
      ],
      "execution_count": 14,
      "outputs": [
        {
          "output_type": "execute_result",
          "data": {
            "text/plain": [
              "{'idade': 30, 'nome': 'Gui', 'profissao': 'Dev', 'salario': 100}"
            ]
          },
          "metadata": {
            "tags": []
          },
          "execution_count": 14
        }
      ]
    },
    {
      "cell_type": "code",
      "metadata": {
        "colab": {
          "base_uri": "https://localhost:8080/",
          "height": 35
        },
        "id": "-ek8SUoM3eXf",
        "outputId": "cc028662-06b9-4cb6-d1f2-af07f3eacbfc"
      },
      "source": [
        "# Pegar um elemento do dicionário\n",
        "dados['nome']"
      ],
      "execution_count": 15,
      "outputs": [
        {
          "output_type": "execute_result",
          "data": {
            "application/vnd.google.colaboratory.intrinsic+json": {
              "type": "string"
            },
            "text/plain": [
              "'Gui'"
            ]
          },
          "metadata": {
            "tags": []
          },
          "execution_count": 15
        }
      ]
    },
    {
      "cell_type": "code",
      "metadata": {
        "id": "p9uuJCHA3git"
      },
      "source": [
        "aumento = 25\n",
        "dados['salario'] += aumento"
      ],
      "execution_count": 18,
      "outputs": []
    },
    {
      "cell_type": "code",
      "metadata": {
        "colab": {
          "base_uri": "https://localhost:8080/"
        },
        "id": "DaB1HHz53krD",
        "outputId": "17cee8af-8fd2-490c-a11d-b52781bb697c"
      },
      "source": [
        "dados"
      ],
      "execution_count": 19,
      "outputs": [
        {
          "output_type": "execute_result",
          "data": {
            "text/plain": [
              "{'idade': 30, 'nome': 'Gui', 'profissao': 'Dev', 'salario': 125}"
            ]
          },
          "metadata": {
            "tags": []
          },
          "execution_count": 19
        }
      ]
    }
  ]
}